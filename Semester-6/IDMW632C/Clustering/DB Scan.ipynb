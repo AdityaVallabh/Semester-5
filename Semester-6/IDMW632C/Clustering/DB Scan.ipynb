{
 "cells": [
  {
   "cell_type": "code",
   "execution_count": 176,
   "metadata": {},
   "outputs": [],
   "source": [
    "from tqdm import tqdm_notebook as tqdm\n",
    "import matplotlib.pyplot as plt\n",
    "import pandas as pd\n",
    "import numpy as np\n",
    "%matplotlib inline"
   ]
  },
  {
   "cell_type": "code",
   "execution_count": 177,
   "metadata": {},
   "outputs": [],
   "source": [
    "class Point:\n",
    "    def __init__(self, x, y, cluster):\n",
    "        self.x = np.array([x, y])\n",
    "        self.cluster = cluster\n",
    "        self.label = None"
   ]
  },
  {
   "cell_type": "code",
   "execution_count": 178,
   "metadata": {},
   "outputs": [],
   "source": [
    "def range_query(db, dist_func, q, eps):\n",
    "    N = set([])\n",
    "    for p in db:\n",
    "        if dist_func(q, p) <= eps:\n",
    "            N.add(p)\n",
    "    return N    "
   ]
  },
  {
   "cell_type": "code",
   "execution_count": 179,
   "metadata": {},
   "outputs": [],
   "source": [
    "def db_scan(db, dist_func, eps, min_pts):\n",
    "    C = 0\n",
    "    for p in tqdm(db):\n",
    "        if p.label != None: continue\n",
    "        N = range_query(db, dist_func, p, eps)\n",
    "        if len(N) < min_pts:\n",
    "            p.label = 'noise'\n",
    "            continue\n",
    "        C += 1\n",
    "        p.label = C\n",
    "        \n",
    "        S = N.difference(set([p]))\n",
    "        while(len(S) > 0):\n",
    "            q = S.pop()\n",
    "            if q.label == 'noise': q.label = C\n",
    "            if q.label != None: continue\n",
    "            q.label = C\n",
    "            N = range_query(db, dist_func, q, eps)\n",
    "            if len(N) >= min_pts:\n",
    "                S = S.union(N)            "
   ]
  },
  {
   "cell_type": "code",
   "execution_count": 180,
   "metadata": {},
   "outputs": [],
   "source": [
    "def euclidean(p, q):\n",
    "    return np.linalg.norm(p.x - q.x)"
   ]
  },
  {
   "cell_type": "code",
   "execution_count": 184,
   "metadata": {},
   "outputs": [],
   "source": [
    "def plot_clusters(db):\n",
    "    colors = ['r', 'g', 'b', 'y', 'c', 'm', 'k', 'w']\n",
    "    clusters = {}\n",
    "    for p in db:\n",
    "        clusters[p.label] = clusters.get(p.label, []) + [p]\n",
    "    print(list(clusters.keys()))\n",
    "    print(colors[:len(clusters)])\n",
    "    for i, k in enumerate(clusters):\n",
    "        xs = [p.x[0] for p in clusters[k]]\n",
    "        ys = [p.x[1] for p in clusters[k]]\n",
    "        plt.scatter(xs, ys, color=colors[i%len(colors)])\n",
    "    plt.show()"
   ]
  },
  {
   "cell_type": "code",
   "execution_count": 185,
   "metadata": {},
   "outputs": [
    {
     "data": {
      "application/vnd.jupyter.widget-view+json": {
       "model_id": "259be4cf49fc477a9fcac165e0ff9fcb",
       "version_major": 2,
       "version_minor": 0
      },
      "text/plain": [
       "HBox(children=(IntProgress(value=0, max=350), HTML(value='')))"
      ]
     },
     "metadata": {},
     "output_type": "display_data"
    },
    {
     "name": "stdout",
     "output_type": "stream",
     "text": [
      "\n",
      "[1, 2]\n",
      "['r', 'g']\n"
     ]
    },
    {
     "data": {
      "image/png": "[encoded data removed]",
      "text/plain": [
       "<Figure size 432x288 with 1 Axes>"
      ]
     },
     "metadata": {
      "needs_background": "light"
     },
     "output_type": "display_data"
    }
   ],
   "source": [
    "df = pd.read_excel('data1.xlsx')\n",
    "db = np.array([Point(p[0], p[1], None) for p in df.values])\n",
    "eps = 1\n",
    "min_pts = 5\n",
    "db_scan(db, euclidean, eps, min_pts)\n",
    "plot_clusters(db)"
   ]
  },
  {
   "cell_type": "code",
   "execution_count": 186,
   "metadata": {},
   "outputs": [
    {
     "data": {
      "application/vnd.jupyter.widget-view+json": {
       "model_id": "11449f0422b74e2a964d35170402f657",
       "version_major": 2,
       "version_minor": 0
      },
      "text/plain": [
       "HBox(children=(IntProgress(value=0, max=1838), HTML(value='')))"
      ]
     },
     "metadata": {},
     "output_type": "display_data"
    },
    {
     "name": "stdout",
     "output_type": "stream",
     "text": [
      "\n",
      "[1, 'noise', 2, 3]\n",
      "['r', 'g', 'b', 'y']\n"
     ]
    },
    {
     "data": {
      "image/png": "[encoded data removed]",
      "text/plain": [
       "<Figure size 432x288 with 1 Axes>"
      ]
     },
     "metadata": {
      "needs_background": "light"
     },
     "output_type": "display_data"
    }
   ],
   "source": [
    "df = pd.read_excel('data2.xlsx')\n",
    "db = np.array([Point(p[0], p[1], None) for p in df.values])\n",
    "eps = 1\n",
    "min_pts = 5\n",
    "db_scan(db, euclidean, eps, min_pts)\n",
    "plot_clusters(db)"
   ]
  }
 ],
 "metadata": {
  "kernelspec": {
   "display_name": "Python 3",
   "language": "python",
   "name": "python3"
  },
  "language_info": {
   "codemirror_mode": {
    "name": "ipython",
    "version": 3
   },
   "file_extension": ".py",
   "mimetype": "text/x-python",
   "name": "python",
   "nbconvert_exporter": "python",
   "pygments_lexer": "ipython3",
   "version": "3.7.0"
  }
 },
 "nbformat": 4,
 "nbformat_minor": 2
}
