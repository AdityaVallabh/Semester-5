{
 "cells": [
  {
   "cell_type": "markdown",
   "metadata": {},
   "source": [
    "<center><h1>Linear Regression with Regularization</h1></center>\n",
    "\n",
    "**<center>Aditya Vallabh</center>**\n",
    "**<center>IIT2016517</center>**"
   ]
  },
  {
   "cell_type": "markdown",
   "metadata": {},
   "source": [
    "**Problem**\n",
    "\n",
    "We are given a housing price dataset. Using various parameters in the datasets we\n",
    "need to predict the housing price.\n",
    "\n",
    "- Predict housing price using normal equations method.\n",
    "\n",
    "- Predict housing price using gradient descent method."
   ]
  },
  {
   "cell_type": "markdown",
   "metadata": {},
   "source": [
    "**Requirements:**\n",
    "- numpy\n",
    "- pandas\n",
    "- matplotlib"
   ]
  },
  {
   "cell_type": "code",
   "execution_count": 134,
   "metadata": {},
   "outputs": [],
   "source": [
    "import numpy as np\n",
    "import pandas as pd\n",
    "from matplotlib import pyplot as plt\n",
    "%matplotlib inline"
   ]
  },
  {
   "cell_type": "markdown",
   "metadata": {},
   "source": [
    "Define cost functions and pre-process data by dropping 'yes/no' columns"
   ]
  },
  {
   "cell_type": "code",
   "execution_count": 135,
   "metadata": {},
   "outputs": [],
   "source": [
    "def err(yy, y):\n",
    "    diff = yy - y\n",
    "    return np.sum(np.power(diff, 2))/(2*len(y))\n",
    "    # return sum(np.abs(diff)/y)/len(y)\n",
    "\n",
    "def pre_process(data, cols):\n",
    "    data = data.drop(cols, axis=1)\n",
    "    data = (data - data.mean())/data.std()\n",
    "    # data.loc[:, 'lotsize':] = (data.loc[:, 'lotsize':] - data.loc[:, 'lotsize':].mean())/data.loc[:, 'lotsize':].std()\n",
    "    return data"
   ]
  },
  {
   "cell_type": "markdown",
   "metadata": {},
   "source": [
    "<h3>Normal Equation method</h3>\n",
    "\n",
    "`W = (X.T * X + L)^-1 * (X.T * Y)`\n",
    "\n",
    "Extend input dimensions to add bias terms\n"
   ]
  },
  {
   "cell_type": "code",
   "execution_count": 136,
   "metadata": {},
   "outputs": [],
   "source": [
    "def train(x, y, L=0):\n",
    "    X = np.ones((x.shape[0],x.shape[1]+1))\n",
    "    X[:,1:] = x\n",
    "    Y = np.array(y)\n",
    "\n",
    "    XX = X.T.dot(X)\n",
    "    XY = X.T.dot(Y)\n",
    "\n",
    "    L = L*np.identity(XX.shape[0])\n",
    "    L[0][0] = 0\n",
    "    W = np.linalg.inv(XX + L).dot(XY)\n",
    "    return W"
   ]
  },
  {
   "cell_type": "markdown",
   "metadata": {},
   "source": [
    "<h3>Gradient Descent Method</h3>"
   ]
  },
  {
   "cell_type": "code",
   "execution_count": 137,
   "metadata": {},
   "outputs": [],
   "source": [
    "def gradient_descent(x, y, w=None, epochs=1000, learning_rate=.02, L=100):\n",
    "    errs = []\n",
    "    X = np.ones((x.shape[0],x.shape[1]+1))\n",
    "    X[:,1:] = x\n",
    "    if not w:\n",
    "        w = np.zeros(X.shape[1])\n",
    "    N = float(len(y))\n",
    "    for i in range(epochs):\n",
    "        y_current = (X.dot(w))\n",
    "        errs.append(err(y_current, y))\n",
    "        diff = y_current - y\n",
    "        Z = (X.T.dot(diff))\n",
    "        w_gradient = (1/N) * Z\n",
    "        regularization = (L/N)*w\n",
    "        regularization[0] = 0\n",
    "        w -= (learning_rate * (w_gradient + regularization))\n",
    "    return w, errs"
   ]
  },
  {
   "cell_type": "markdown",
   "metadata": {},
   "source": [
    "Predict the price given weights and features"
   ]
  },
  {
   "cell_type": "code",
   "execution_count": 138,
   "metadata": {},
   "outputs": [],
   "source": [
    "def predict(x, W):\n",
    "    X = np.ones((x.shape[0],x.shape[1]+1))\n",
    "    X[:,1:] = x\n",
    "    pred = []\n",
    "    for t in X:\n",
    "        pred.append(t.dot(W))\n",
    "    return np.array(pred)"
   ]
  },
  {
   "cell_type": "markdown",
   "metadata": {},
   "source": [
    "Read the dataset and pre-process by removing unecessary columns and normalize the data for faster convergence\n"
   ]
  },
  {
   "cell_type": "code",
   "execution_count": 139,
   "metadata": {},
   "outputs": [
    {
     "data": {
      "text/html": [
       "<div>\n",
       "<style scoped>\n",
       "    .dataframe tbody tr th:only-of-type {\n",
       "        vertical-align: middle;\n",
       "    }\n",
       "\n",
       "    .dataframe tbody tr th {\n",
       "        vertical-align: top;\n",
       "    }\n",
       "\n",
       "    .dataframe thead th {\n",
       "        text-align: right;\n",
       "    }\n",
       "</style>\n",
       "<table border=\"1\" class=\"dataframe\">\n",
       "  <thead>\n",
       "    <tr style=\"text-align: right;\">\n",
       "      <th></th>\n",
       "      <th>price</th>\n",
       "      <th>lotsize</th>\n",
       "      <th>bedrooms</th>\n",
       "      <th>bathrms</th>\n",
       "      <th>stories</th>\n",
       "      <th>garagepl</th>\n",
       "    </tr>\n",
       "  </thead>\n",
       "  <tbody>\n",
       "    <tr>\n",
       "      <th>1</th>\n",
       "      <td>-0.978239</td>\n",
       "      <td>0.322732</td>\n",
       "      <td>0.047192</td>\n",
       "      <td>-0.568973</td>\n",
       "      <td>0.221501</td>\n",
       "      <td>0.357239</td>\n",
       "    </tr>\n",
       "    <tr>\n",
       "      <th>2</th>\n",
       "      <td>-1.109312</td>\n",
       "      <td>-0.530526</td>\n",
       "      <td>-1.308947</td>\n",
       "      <td>-0.568973</td>\n",
       "      <td>-0.930304</td>\n",
       "      <td>-0.803788</td>\n",
       "    </tr>\n",
       "    <tr>\n",
       "      <th>3</th>\n",
       "      <td>-0.697368</td>\n",
       "      <td>-0.964074</td>\n",
       "      <td>0.047192</td>\n",
       "      <td>-0.568973</td>\n",
       "      <td>-0.930304</td>\n",
       "      <td>-0.803788</td>\n",
       "    </tr>\n",
       "    <tr>\n",
       "      <th>4</th>\n",
       "      <td>-0.285425</td>\n",
       "      <td>0.691709</td>\n",
       "      <td>0.047192</td>\n",
       "      <td>-0.568973</td>\n",
       "      <td>0.221501</td>\n",
       "      <td>-0.803788</td>\n",
       "    </tr>\n",
       "    <tr>\n",
       "      <th>5</th>\n",
       "      <td>-0.266700</td>\n",
       "      <td>0.557955</td>\n",
       "      <td>-1.308947</td>\n",
       "      <td>-0.568973</td>\n",
       "      <td>-0.930304</td>\n",
       "      <td>-0.803788</td>\n",
       "    </tr>\n",
       "  </tbody>\n",
       "</table>\n",
       "</div>"
      ],
      "text/plain": [
       "      price   lotsize  bedrooms   bathrms   stories  garagepl\n",
       "1 -0.978239  0.322732  0.047192 -0.568973  0.221501  0.357239\n",
       "2 -1.109312 -0.530526 -1.308947 -0.568973 -0.930304 -0.803788\n",
       "3 -0.697368 -0.964074  0.047192 -0.568973 -0.930304 -0.803788\n",
       "4 -0.285425  0.691709  0.047192 -0.568973  0.221501 -0.803788\n",
       "5 -0.266700  0.557955 -1.308947 -0.568973 -0.930304 -0.803788"
      ]
     },
     "execution_count": 139,
     "metadata": {},
     "output_type": "execute_result"
    }
   ],
   "source": [
    "df = pd.read_csv('dataset.csv', index_col=0)\n",
    "df = pre_process(df, ['driveway', 'recroom', 'fullbase', 'gashw', 'airco', 'prefarea'])\n",
    "df.head()\n",
    "# df = df.sample(frac=1)"
   ]
  },
  {
   "cell_type": "markdown",
   "metadata": {},
   "source": [
    "Perform train - test split given a *split ratio*"
   ]
  },
  {
   "cell_type": "code",
   "execution_count": 140,
   "metadata": {},
   "outputs": [],
   "source": [
    "def train_test_split(split):\n",
    "    idx = int(split*len(df))\n",
    "    train_data, test_data = df.iloc[:idx], df.iloc[idx:]\n",
    "    # test_data = train_data\n",
    "    # print(len(train_data), len(test_data))\n",
    "    x_train = train_data.loc[:, train_data.columns != 'price'].values\n",
    "    y_train = train_data['price'].values\n",
    "    x_test = test_data.loc[:, test_data.columns != 'price'].values\n",
    "    y_test = test_data['price'].values\n",
    "    return x_train, y_train, x_test, y_test"
   ]
  },
  {
   "cell_type": "markdown",
   "metadata": {},
   "source": [
    "Given training and testing data, vary **lambda** (regularization parameter) and return the corresponding costs for every lambda\n",
    "\n",
    "In the function below, we vary lambda from 0 to 500"
   ]
  },
  {
   "cell_type": "code",
   "execution_count": 141,
   "metadata": {},
   "outputs": [],
   "source": [
    "def analyze(x_train, y_train, x_test, y_test):\n",
    "    N_r = []\n",
    "    G_r = []\n",
    "    L_r = []\n",
    "\n",
    "    for L in range(0, 500, 10):\n",
    "        L_r.append(L)\n",
    "        W = train(x_train, y_train, L=L)\n",
    "        yy = predict(x_test, W)\n",
    "        norm_err = err(yy, y_test)\n",
    "    #     print('Normal Equations Error: {}'.format(norm_err))\n",
    "        N_r.append(norm_err)\n",
    "\n",
    "        W2, errs = gradient_descent(x_train, y_train, epochs=100, L=L)\n",
    "        yy = predict(x_test, W2)\n",
    "        grad_err = err(yy, y_test)\n",
    "    #     print('Gradient Descent Error: {}'.format(grad_err))\n",
    "        G_r.append(grad_err)\n",
    "    #     print(W2)\n",
    "    return L_r, N_r, G_r"
   ]
  },
  {
   "cell_type": "markdown",
   "metadata": {},
   "source": [
    "Plot graphs comparing the performance of Normal Equations and Gradient Descent in `Cost vs Lambda`"
   ]
  },
  {
   "cell_type": "code",
   "execution_count": 142,
   "metadata": {},
   "outputs": [],
   "source": [
    "def plot_graphs(L_r, N_r, G_r):\n",
    "    # plt.plot(range(len(errs)), [norm_err]*len(errs), '-g')\n",
    "    # plt.plot(range(len(errs)), errs, '-r')\n",
    "    plt.plot(L_r, N_r, '-g', label='Normal Eqns.')\n",
    "    plt.plot(L_r, G_r, '-r', label='Grad desc.')\n",
    "    plt.xlabel('Lambda')\n",
    "    plt.ylabel('Cost')\n",
    "    plt.legend()\n",
    "    plt.grid()\n",
    "    plt.show()"
   ]
  },
  {
   "cell_type": "markdown",
   "metadata": {},
   "source": [
    "**Observe the effect of lambda without splitting the dataset**"
   ]
  },
  {
   "cell_type": "code",
   "execution_count": 143,
   "metadata": {},
   "outputs": [
    {
     "data": {
      "image/png": "[encoded data removed]",
      "text/plain": [
       "<Figure size 432x288 with 1 Axes>"
      ]
     },
     "metadata": {
      "needs_background": "light"
     },
     "output_type": "display_data"
    }
   ],
   "source": [
    "x1, y1, x2, y2 = train_test_split(split=1)\n",
    "x2, y2 = x1, y1\n",
    "L_r, N_r, G_r = analyze(x1, y1, x2, y2)\n",
    "plot_graphs(L_r, N_r, G_r)"
   ]
  },
  {
   "cell_type": "markdown",
   "metadata": {},
   "source": [
    "**Observe the effect of lambda with a 70% - 30% split**"
   ]
  },
  {
   "cell_type": "code",
   "execution_count": 144,
   "metadata": {},
   "outputs": [
    {
     "data": {
      "image/png": "[encoded data removed]",
      "text/plain": [
       "<Figure size 432x288 with 1 Axes>"
      ]
     },
     "metadata": {
      "needs_background": "light"
     },
     "output_type": "display_data"
    }
   ],
   "source": [
    "x1, y1, x2, y2 = train_test_split(split=.7)\n",
    "L_r, N_r, G_r = analyze(x1, y1, x2, y2)\n",
    "plot_graphs(L_r, N_r, G_r)"
   ]
  },
  {
   "cell_type": "markdown",
   "metadata": {},
   "source": [
    "<h3>Observations</h3>\n",
    "\n",
    "<b>We observe that when we don't split the dataset:\n",
    "    - Normal equations result is always better than Gradient descent\n",
    "    - Cost is always increasing with increasing lambda\n",
    "\n",
    "When we split the dataset into a 70% - 30% ratio:    \n",
    "    - Normal equations result initially improves upto lambda=50 (approx.) and then the cost increases indefinitely\n",
    "    - For large lambda, gradient descent has better results than normal equation results"
   ]
  },
  {
   "cell_type": "markdown",
   "metadata": {},
   "source": [
    "<h3>Conclusion</h3>\n",
    "\n",
    "<b>The given dataset has very few features for overfitting to occur. Hence regularization doesn't play a major role here.\n",
    "    Also it's possible to get a solution using GD better than normal equations when there's a train-test split"
   ]
  }
 ],
 "metadata": {
  "kernelspec": {
   "display_name": "Python 3",
   "language": "python",
   "name": "python3"
  },
  "language_info": {
   "codemirror_mode": {
    "name": "ipython",
    "version": 3
   },
   "file_extension": ".py",
   "mimetype": "text/x-python",
   "name": "python",
   "nbconvert_exporter": "python",
   "pygments_lexer": "ipython3",
   "version": "3.7.2"
  }
 },
 "nbformat": 4,
 "nbformat_minor": 2
}
