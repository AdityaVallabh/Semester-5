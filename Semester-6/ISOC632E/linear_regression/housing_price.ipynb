{
 "cells": [
  {
   "cell_type": "markdown",
   "metadata": {},
   "source": [
    "<center><h1>Linear Regression on Housing Price Dataset</h1></center>\n",
    "\n",
    "**<center>Aditya Vallabh</center>**\n",
    "**<center>IIT2016517</center>**"
   ]
  },
  {
   "cell_type": "markdown",
   "metadata": {},
   "source": [
    "<h3>Problem</h3>\n",
    "\n",
    "We are given a housing price dataset. Using various parameters in the datasets we\n",
    "need to predict the housing price.\n",
    "\n",
    "- Predict housing price using normal equations method.\n",
    "\n",
    "- Predict housing price using gradient descent method.\n"
   ]
  },
  {
   "cell_type": "markdown",
   "metadata": {},
   "source": [
    "**Requirements:**\n",
    "- numpy\n",
    "- pandas\n",
    "- matplotlib"
   ]
  },
  {
   "cell_type": "code",
   "execution_count": 72,
   "metadata": {},
   "outputs": [],
   "source": [
    "import numpy as np\n",
    "import pandas as pd\n",
    "from matplotlib import pyplot as plt\n",
    "%matplotlib inline"
   ]
  },
  {
   "cell_type": "markdown",
   "metadata": {},
   "source": [
    "Define cost functions and pre-process data by dropping 'yes/no' columns"
   ]
  },
  {
   "cell_type": "code",
   "execution_count": 73,
   "metadata": {},
   "outputs": [],
   "source": [
    "def err(yy, y):\n",
    "    diff = yy - y\n",
    "    return np.sum(np.power(diff, 2))/(2*len(y))\n",
    "    # return sum(np.abs(diff)/y)/len(y)\n",
    "\n",
    "def pre_process(data, cols):\n",
    "    # for col in cols:\n",
    "    #     data.loc[data[col] == 'yes', [col]] = 1\n",
    "    #     data.loc[data[col] == 'no', [col]] = 0\n",
    "    data = data.drop(cols, axis=1)\n",
    "    data = (data - data.mean())/data.std()\n",
    "    return data"
   ]
  },
  {
   "cell_type": "markdown",
   "metadata": {},
   "source": [
    "<h3>Normal Equation method</h3>\n",
    "\n",
    "`W = (X.T * X)^-1 * (X.T * Y)`\n",
    "\n",
    "Extend input dimensions to add bias terms"
   ]
  },
  {
   "cell_type": "code",
   "execution_count": 74,
   "metadata": {},
   "outputs": [],
   "source": [
    "def train(x, y):\n",
    "    X = np.ones((x.shape[0],x.shape[1]+1))\n",
    "    X[:,1:] = x\n",
    "    Y = np.array(y)\n",
    "\n",
    "    XX = X.T.dot(X)\n",
    "    XY = X.T.dot(Y)\n",
    "\n",
    "    W = np.linalg.inv(XX).dot(XY)\n",
    "    return W"
   ]
  },
  {
   "cell_type": "markdown",
   "metadata": {},
   "source": [
    "<h3>Gradient Descent Method</h3>"
   ]
  },
  {
   "cell_type": "code",
   "execution_count": 75,
   "metadata": {},
   "outputs": [],
   "source": [
    "def gradient_descent(x, y, w=None, epochs=20, learning_rate=1e-1):\n",
    "    errs = []\n",
    "    X = np.ones((x.shape[0],x.shape[1]+1))\n",
    "    X[:,1:] = x\n",
    "    if not w:\n",
    "        w = np.zeros(X.shape[1])\n",
    "    N = float(len(y))\n",
    "    for i in range(epochs):\n",
    "        y_current = (X.dot(w))\n",
    "        errs.append(err(y_current, y))\n",
    "        diff = y_current - y\n",
    "        Z = (X.T.dot(diff))\n",
    "        w_gradient = (1/N) * Z\n",
    "        w -= (learning_rate * w_gradient)\n",
    "    return w, errs"
   ]
  },
  {
   "cell_type": "markdown",
   "metadata": {},
   "source": [
    "Predict the price given weights and features"
   ]
  },
  {
   "cell_type": "code",
   "execution_count": 76,
   "metadata": {},
   "outputs": [],
   "source": [
    "def predict(x, W):\n",
    "    X = np.ones((x.shape[0],x.shape[1]+1))\n",
    "    X[:,1:] = x\n",
    "    pred = []\n",
    "    for t in X:\n",
    "        pred.append(t.dot(W))\n",
    "    return np.array(pred)"
   ]
  },
  {
   "cell_type": "markdown",
   "metadata": {},
   "source": [
    "Read the dataset and pre-process by removing unecessary columns"
   ]
  },
  {
   "cell_type": "code",
   "execution_count": 77,
   "metadata": {},
   "outputs": [
    {
     "data": {
      "text/html": [
       "<div>\n",
       "<style scoped>\n",
       "    .dataframe tbody tr th:only-of-type {\n",
       "        vertical-align: middle;\n",
       "    }\n",
       "\n",
       "    .dataframe tbody tr th {\n",
       "        vertical-align: top;\n",
       "    }\n",
       "\n",
       "    .dataframe thead th {\n",
       "        text-align: right;\n",
       "    }\n",
       "</style>\n",
       "<table border=\"1\" class=\"dataframe\">\n",
       "  <thead>\n",
       "    <tr style=\"text-align: right;\">\n",
       "      <th></th>\n",
       "      <th>price</th>\n",
       "      <th>lotsize</th>\n",
       "      <th>bedrooms</th>\n",
       "      <th>bathrms</th>\n",
       "      <th>stories</th>\n",
       "      <th>garagepl</th>\n",
       "    </tr>\n",
       "  </thead>\n",
       "  <tbody>\n",
       "    <tr>\n",
       "      <th>1</th>\n",
       "      <td>-0.978239</td>\n",
       "      <td>0.322732</td>\n",
       "      <td>0.047192</td>\n",
       "      <td>-0.568973</td>\n",
       "      <td>0.221501</td>\n",
       "      <td>0.357239</td>\n",
       "    </tr>\n",
       "    <tr>\n",
       "      <th>2</th>\n",
       "      <td>-1.109312</td>\n",
       "      <td>-0.530526</td>\n",
       "      <td>-1.308947</td>\n",
       "      <td>-0.568973</td>\n",
       "      <td>-0.930304</td>\n",
       "      <td>-0.803788</td>\n",
       "    </tr>\n",
       "    <tr>\n",
       "      <th>3</th>\n",
       "      <td>-0.697368</td>\n",
       "      <td>-0.964074</td>\n",
       "      <td>0.047192</td>\n",
       "      <td>-0.568973</td>\n",
       "      <td>-0.930304</td>\n",
       "      <td>-0.803788</td>\n",
       "    </tr>\n",
       "    <tr>\n",
       "      <th>4</th>\n",
       "      <td>-0.285425</td>\n",
       "      <td>0.691709</td>\n",
       "      <td>0.047192</td>\n",
       "      <td>-0.568973</td>\n",
       "      <td>0.221501</td>\n",
       "      <td>-0.803788</td>\n",
       "    </tr>\n",
       "    <tr>\n",
       "      <th>5</th>\n",
       "      <td>-0.266700</td>\n",
       "      <td>0.557955</td>\n",
       "      <td>-1.308947</td>\n",
       "      <td>-0.568973</td>\n",
       "      <td>-0.930304</td>\n",
       "      <td>-0.803788</td>\n",
       "    </tr>\n",
       "  </tbody>\n",
       "</table>\n",
       "</div>"
      ],
      "text/plain": [
       "      price   lotsize  bedrooms   bathrms   stories  garagepl\n",
       "1 -0.978239  0.322732  0.047192 -0.568973  0.221501  0.357239\n",
       "2 -1.109312 -0.530526 -1.308947 -0.568973 -0.930304 -0.803788\n",
       "3 -0.697368 -0.964074  0.047192 -0.568973 -0.930304 -0.803788\n",
       "4 -0.285425  0.691709  0.047192 -0.568973  0.221501 -0.803788\n",
       "5 -0.266700  0.557955 -1.308947 -0.568973 -0.930304 -0.803788"
      ]
     },
     "execution_count": 77,
     "metadata": {},
     "output_type": "execute_result"
    }
   ],
   "source": [
    "data = pd.read_csv('dataset.csv', index_col=0)\n",
    "# data = data.sample(50)\n",
    "data = pre_process(data, ['driveway', 'recroom', 'fullbase', 'gashw', 'airco', 'prefarea'])\n",
    "x = data.loc[:, data.columns != 'price'].values\n",
    "y = data['price'].values\n",
    "data.head()"
   ]
  },
  {
   "cell_type": "markdown",
   "metadata": {},
   "source": [
    "Obtain weights using both *normal equations* and *gradient descent* and plot the respective `cost vs epochs graphs`"
   ]
  },
  {
   "cell_type": "code",
   "execution_count": 78,
   "metadata": {},
   "outputs": [
    {
     "name": "stdout",
     "output_type": "stream",
     "text": [
      "Normal Weights: [-9.65683950e-17  3.84337540e-01  6.59575210e-02  3.03672825e-01\n",
      "  2.56189746e-01  1.73274748e-01]\n",
      "\n",
      "GD Weights: [-1.63971401e-16  3.46505276e-01  1.11839214e-01  2.83568910e-01\n",
      "  2.30761633e-01  1.87295155e-01]\n",
      "\n",
      "Normal Equations Cost: 0.2189327289587085\n",
      "Gradient Descent Cost: 0.22046766007923924\n"
     ]
    }
   ],
   "source": [
    "W = train(x, y)\n",
    "print('Normal Weights: {}\\n'.format(W))\n",
    "yy = predict(x, W)\n",
    "norm_err = err(yy, y)\n",
    "W2, errs = gradient_descent(x, y)\n",
    "yy = predict(x, W2)\n",
    "print('GD Weights: {}\\n'.format(W2))\n",
    "print('Normal Equations Cost: {}'.format(norm_err))\n",
    "print('Gradient Descent Cost: {}'.format(err(yy, y)))\n"
   ]
  },
  {
   "cell_type": "markdown",
   "metadata": {},
   "source": [
    "Almost similar weights are obtained for the same cost"
   ]
  },
  {
   "cell_type": "code",
   "execution_count": 79,
   "metadata": {},
   "outputs": [
    {
     "data": {
      "image/png": "[encoded data removed]",
      "text/plain": [
       "<Figure size 432x288 with 1 Axes>"
      ]
     },
     "metadata": {
      "needs_background": "light"
     },
     "output_type": "display_data"
    }
   ],
   "source": [
    "plt.plot(range(len(errs)), errs, '-r', label='Gradient Descent')\n",
    "plt.plot(range(len(errs)), [norm_err]*len(errs), '-g', label='Normal Equations')\n",
    "plt.xlabel('Epochs')\n",
    "plt.ylabel('Cost')\n",
    "plt.legend()\n",
    "plt.grid()\n",
    "plt.show()"
   ]
  },
  {
   "cell_type": "markdown",
   "metadata": {},
   "source": [
    "***We observe that gradient descent takes time to converge and eventually matches the results of the normal equations***"
   ]
  }
 ],
 "metadata": {
  "kernelspec": {
   "display_name": "Python 3",
   "language": "python",
   "name": "python3"
  },
  "language_info": {
   "codemirror_mode": {
    "name": "ipython",
    "version": 3
   },
   "file_extension": ".py",
   "mimetype": "text/x-python",
   "name": "python",
   "nbconvert_exporter": "python",
   "pygments_lexer": "ipython3",
   "version": "3.7.2"
  }
 },
 "nbformat": 4,
 "nbformat_minor": 2
}
