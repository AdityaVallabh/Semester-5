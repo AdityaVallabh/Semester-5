{
 "cells": [
  {
   "cell_type": "code",
   "execution_count": 7,
   "metadata": {},
   "outputs": [],
   "source": [
    "import pandas as pd\n",
    "import string"
   ]
  },
  {
   "cell_type": "code",
   "execution_count": 8,
   "metadata": {},
   "outputs": [],
   "source": [
    "class Naive_Bayes:\n",
    "    \n",
    "    def __init__(self):\n",
    "        self.spam, self.ham = {}, {}\n",
    "        self.spam_count, self.ham_count = 0, 0\n",
    "        self.V = set()\n",
    "                \n",
    "    def tokenize(self, s):\n",
    "        s = s.lower()\n",
    "        tokens = s.split()\n",
    "        only_letters = lambda w: all([c in string.ascii_letters for c in w])\n",
    "        words = list(filter(only_letters, tokens))\n",
    "        return words\n",
    "\n",
    "    def train(self, X, Y):\n",
    "        for x,y in zip(X,Y):\n",
    "            x = self.tokenize(x)\n",
    "            if y == 0:\n",
    "                self.ham_count += 1\n",
    "                for word in x:\n",
    "                    self.ham[word] = self.ham.get(word, 0) + 1\n",
    "                    self.V.add(word)\n",
    "            if y == 1:\n",
    "                self.spam_count += 1\n",
    "                for word in x:\n",
    "                    self.spam[word] = self.spam.get(word, 0) + 1\n",
    "                    self.V.add(word)\n",
    "\n",
    "    def test(self, X):\n",
    "        Y, V, spam, ham, spam_count, ham_count = [], self.V, self.spam, self.ham, self.spam_count, self.ham_count\n",
    "        for x in X:\n",
    "            x = self.tokenize(x)\n",
    "            p = spam_count/(spam_count + ham_count)\n",
    "            for word in x:\n",
    "                p *= (spam.get(word, 0) + 1)/(spam_count + len(V))\n",
    "            q = ham_count/(spam_count + ham_count)\n",
    "            for word in x:\n",
    "                q *= (ham.get(word, 0) + 1)/(ham_count + len(V))\n",
    "            Y.append(1 if p >= q else 0)\n",
    "        return Y"
   ]
  },
  {
   "cell_type": "code",
   "execution_count": 9,
   "metadata": {},
   "outputs": [],
   "source": [
    "def train_test_split(df, split):\n",
    "    df = df.sample(frac=1)\n",
    "    df = df.reset_index(drop=True)\n",
    "    idx = round(split*len(df))\n",
    "    train_x, train_y = df.loc[:idx,'message'].values, df.loc[:idx,'label'].values\n",
    "    test_x, test_y = df.loc[idx:,'message'].values, df.loc[idx:,'label'].values\n",
    "    return train_x, train_y, test_x, test_y"
   ]
  },
  {
   "cell_type": "code",
   "execution_count": 10,
   "metadata": {},
   "outputs": [
    {
     "data": {
      "text/html": [
       "<div>\n",
       "<style scoped>\n",
       "    .dataframe tbody tr th:only-of-type {\n",
       "        vertical-align: middle;\n",
       "    }\n",
       "\n",
       "    .dataframe tbody tr th {\n",
       "        vertical-align: top;\n",
       "    }\n",
       "\n",
       "    .dataframe thead th {\n",
       "        text-align: right;\n",
       "    }\n",
       "</style>\n",
       "<table border=\"1\" class=\"dataframe\">\n",
       "  <thead>\n",
       "    <tr style=\"text-align: right;\">\n",
       "      <th></th>\n",
       "      <th>label</th>\n",
       "      <th>message</th>\n",
       "    </tr>\n",
       "  </thead>\n",
       "  <tbody>\n",
       "    <tr>\n",
       "      <th>0</th>\n",
       "      <td>0</td>\n",
       "      <td>Go until jurong point, crazy.. Available only ...</td>\n",
       "    </tr>\n",
       "    <tr>\n",
       "      <th>1</th>\n",
       "      <td>0</td>\n",
       "      <td>Ok lar... Joking wif u oni...</td>\n",
       "    </tr>\n",
       "    <tr>\n",
       "      <th>2</th>\n",
       "      <td>1</td>\n",
       "      <td>Free entry in 2 a wkly comp to win FA Cup fina...</td>\n",
       "    </tr>\n",
       "    <tr>\n",
       "      <th>3</th>\n",
       "      <td>0</td>\n",
       "      <td>U dun say so early hor... U c already then say...</td>\n",
       "    </tr>\n",
       "    <tr>\n",
       "      <th>4</th>\n",
       "      <td>0</td>\n",
       "      <td>Nah I don't think he goes to usf, he lives aro...</td>\n",
       "    </tr>\n",
       "  </tbody>\n",
       "</table>\n",
       "</div>"
      ],
      "text/plain": [
       "   label                                            message\n",
       "0      0  Go until jurong point, crazy.. Available only ...\n",
       "1      0                      Ok lar... Joking wif u oni...\n",
       "2      1  Free entry in 2 a wkly comp to win FA Cup fina...\n",
       "3      0  U dun say so early hor... U c already then say...\n",
       "4      0  Nah I don't think he goes to usf, he lives aro..."
      ]
     },
     "execution_count": 10,
     "metadata": {},
     "output_type": "execute_result"
    }
   ],
   "source": [
    "df = pd.read_csv('spam.csv', encoding = 'latin-1')\n",
    "df.drop(['Unnamed: 2', 'Unnamed: 3', 'Unnamed: 4'], axis=1, inplace=True)\n",
    "df.drop_duplicates(inplace=True)\n",
    "df.rename(columns = {'v1': 'label', 'v2': 'message'}, inplace=True)\n",
    "df['label'] = df['label'].map({'ham': 0, 'spam': 1})\n",
    "df.head()"
   ]
  },
  {
   "cell_type": "code",
   "execution_count": 12,
   "metadata": {},
   "outputs": [
    {
     "name": "stdout",
     "output_type": "stream",
     "text": [
      "3619 1551\n",
      "Accuracy 0.9458, Errors: 84\n"
     ]
    },
    {
     "data": {
      "text/plain": [
       "[1]"
      ]
     },
     "execution_count": 12,
     "metadata": {},
     "output_type": "execute_result"
    }
   ],
   "source": [
    "split = .7\n",
    "train_x, train_y, test_x, test_y = train_test_split(df, split)\n",
    "if split == 1:\n",
    "    test_x, test_y = train_x, train_y\n",
    "print(len(train_y), len(test_y))\n",
    "model = Naive_Bayes()\n",
    "model.train(train_x, train_y)\n",
    "yy = model.test(test_x)\n",
    "count_wrong = lambda test_y,yy: sum([a != b for a,b in zip(test_y, yy)])\n",
    "num_errs = count_wrong(yy, test_y)\n",
    "# total = spam_count + ham_count\n",
    "total = len(test_y)\n",
    "print('Accuracy {:.4f}, Errors: {}'.format(1 - num_errs/total, num_errs))\n",
    "model.test(['Congratulations ur awarded $500 '])"
   ]
  }
 ],
 "metadata": {
  "kernelspec": {
   "display_name": "Python 3",
   "language": "python",
   "name": "python3"
  },
  "language_info": {
   "codemirror_mode": {
    "name": "ipython",
    "version": 3
   },
   "file_extension": ".py",
   "mimetype": "text/x-python",
   "name": "python",
   "nbconvert_exporter": "python",
   "pygments_lexer": "ipython3",
   "version": "3.7.2"
  }
 },
 "nbformat": 4,
 "nbformat_minor": 2
}
