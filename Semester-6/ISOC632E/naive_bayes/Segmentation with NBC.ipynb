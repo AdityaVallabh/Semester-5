{
 "cells": [
  {
   "cell_type": "code",
   "execution_count": 1,
   "metadata": {},
   "outputs": [],
   "source": [
    "from tqdm import tqdm_notebook as tqdm\n",
    "from matplotlib import pyplot as plt\n",
    "from PIL import Image\n",
    "import numpy as np\n",
    "import random\n",
    "import os\n",
    "os.chdir('images')"
   ]
  },
  {
   "cell_type": "code",
   "execution_count": 2,
   "metadata": {},
   "outputs": [],
   "source": [
    "def get_mask(file):\n",
    "    mask = plt.imread(file)\n",
    "    w, h = mask.shape\n",
    "    d = {}\n",
    "    for i in range(h):\n",
    "        for j in range(w):\n",
    "            d[(i,j)] = False if mask[i,j] < 128 else True\n",
    "    return mask, d\n",
    "\n",
    "def get_rand(d, r, nr):\n",
    "    all_river = list(filter(lambda k: d[k] != 0, d))\n",
    "    all_non_river = list(filter(lambda k: d[k] == 0, d))\n",
    "    \n",
    "    river = random.sample(all_river, r)\n",
    "    non_river = random.sample(all_non_river, nr)\n",
    "    \n",
    "    return np.array(river), np.array(non_river)\n",
    "\n",
    "def get_data(idxs, r='1.gif', g='2.gif', b='3.gif', i='4.gif'):\n",
    "    R, G, B, I = plt.imread(r), plt.imread(g), plt.imread(b), plt.imread(i)\n",
    "    data = []\n",
    "    for idx in idxs:\n",
    "        point = tuple([R[idx[0]][idx[1]][0], G[idx[0]][idx[1]][0], B[idx[0]][idx[1]][0], I[idx[0]][idx[1]][0]])\n",
    "        data.append(point)\n",
    "    return np.array(data)"
   ]
  },
  {
   "cell_type": "code",
   "execution_count": 16,
   "metadata": {},
   "outputs": [],
   "source": [
    "class Naive_Bayes:\n",
    "    \n",
    "    def __init__(self):\n",
    "        pass\n",
    "    \n",
    "    def train(self, river, non_river):\n",
    "        self.Tr = np.mean(river, axis=0)\n",
    "        self.Tnr = np.mean(non_river, axis=0)\n",
    "        self.cov_r = np.cov(river.T)\n",
    "        self.cov_nr = np.cov(non_river.T)\n",
    "        dev_r = river - self.Tr\n",
    "        dev_nr = river - self.Tnr\n",
    "        \n",
    "    def test(self, X, P1, P2):\n",
    "        Y = []\n",
    "        for x in tqdm(X):\n",
    "            dev_r = x - self.Tr\n",
    "            dev_nr = x - self.Tnr\n",
    "            river_class = dev_r.T.dot(np.linalg.inv(self.cov_r)).dot(dev_r)\n",
    "            non_river_class = dev_nr.T.dot(np.linalg.inv(self.cov_nr)).dot(dev_nr)\n",
    "            \n",
    "            p1 = -.5 * 1/np.sqrt(np.linalg.det(self.cov_r)) * np.exp(river_class)\n",
    "            p2 = -.5 * 1/np.sqrt(np.linalg.det(self.cov_nr)) * np.exp(non_river_class)\n",
    "            \n",
    "            Y.append(P1 * p1 >= P2 * p2)\n",
    "            \n",
    "        return np.array(Y)        "
   ]
  },
  {
   "cell_type": "code",
   "execution_count": 4,
   "metadata": {},
   "outputs": [
    {
     "data": {
      "image/png": "[encoded data removed]",
      "text/plain": [
       "<Figure size 432x288 with 1 Axes>"
      ]
     },
     "metadata": {
      "needs_background": "light"
     },
     "output_type": "display_data"
    }
   ],
   "source": [
    "image, d = get_mask('UDCV3.jpeg')\n",
    "river_idx, non_river_idx = get_rand(d, 50, 100)\n",
    "river = get_data(river_idx)\n",
    "non_river = get_data(non_river_idx)\n",
    "plt.imshow(image)\n",
    "plt.scatter(x=list(map(lambda p: p[1], river_idx)), y=list(map(lambda p: p[0], river_idx)), c='r', s=10)\n",
    "plt.scatter(x=list(map(lambda p: p[1], non_river_idx)), y=list(map(lambda p: p[0], non_river_idx)), c='g', s=10)\n",
    "plt.show()"
   ]
  },
  {
   "cell_type": "code",
   "execution_count": 17,
   "metadata": {},
   "outputs": [
    {
     "data": {
      "application/vnd.jupyter.widget-view+json": {
       "model_id": "5b17ab4ea1df49b88c59285b6db918f6",
       "version_major": 2,
       "version_minor": 0
      },
      "text/plain": [
       "HBox(children=(IntProgress(value=0, max=262144), HTML(value='')))"
      ]
     },
     "metadata": {},
     "output_type": "display_data"
    },
    {
     "name": "stderr",
     "output_type": "stream",
     "text": [
      "/home/dedsec/anaconda3/lib/python3.7/site-packages/ipykernel_launcher.py:22: RuntimeWarning: overflow encountered in double_scalars\n"
     ]
    },
    {
     "name": "stdout",
     "output_type": "stream",
     "text": [
      "\n"
     ]
    }
   ],
   "source": [
    "model = Naive_Bayes()\n",
    "model.train(river, non_river)\n",
    "data = get_data(list(d.keys()))\n",
    "yy = model.test(data, .7, .3)\n",
    "y = list(d.values())"
   ]
  },
  {
   "cell_type": "code",
   "execution_count": 18,
   "metadata": {},
   "outputs": [
    {
     "name": "stdout",
     "output_type": "stream",
     "text": [
      "Accuracy: 0.9970970153808594\n"
     ]
    },
    {
     "data": {
      "image/png": "[encoded data removed]",
      "text/plain": [
       "<Figure size 432x288 with 1 Axes>"
      ]
     },
     "metadata": {
      "needs_background": "light"
     },
     "output_type": "display_data"
    }
   ],
   "source": [
    "count_wrong = lambda test_y,yy: sum([a != b for a,b in zip(test_y, yy)])\n",
    "num_errs = count_wrong(yy, y)\n",
    "print('Accuracy: {}'.format(1-num_errs/len(yy)))\n",
    "result = Image.fromarray(yy.reshape(image.shape).astype('uint8')*255)\n",
    "plt.imshow(result)\n",
    "plt.show()\n",
    "result.save('result2.png')"
   ]
  }
 ],
 "metadata": {
  "kernelspec": {
   "display_name": "Python 3",
   "language": "python",
   "name": "python3"
  },
  "language_info": {
   "codemirror_mode": {
    "name": "ipython",
    "version": 3
   },
   "file_extension": ".py",
   "mimetype": "text/x-python",
   "name": "python",
   "nbconvert_exporter": "python",
   "pygments_lexer": "ipython3",
   "version": "3.7.2"
  }
 },
 "nbformat": 4,
 "nbformat_minor": 2
}
