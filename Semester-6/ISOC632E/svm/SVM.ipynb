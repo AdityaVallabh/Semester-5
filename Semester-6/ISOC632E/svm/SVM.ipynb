{
 "cells": [
  {
   "cell_type": "markdown",
   "metadata": {},
   "source": [
    "# SVM with SMO"
   ]
  },
  {
   "cell_type": "code",
   "execution_count": 6,
   "metadata": {},
   "outputs": [],
   "source": [
    "from __future__ import division, print_function\n",
    "from tqdm import tqdm_notebook as tqdm\n",
    "import os\n",
    "import numpy as np\n",
    "import random as rnd"
   ]
  },
  {
   "cell_type": "code",
   "execution_count": 7,
   "metadata": {},
   "outputs": [],
   "source": [
    "class SVM():\n",
    "    def __init__(self, max_iter=10000, kernel_type='linear', C=1.0, epsilon=0.001, sigma=.01):\n",
    "        self.kernels = {\n",
    "            'linear' : self.kernel_linear,\n",
    "            'quadratic' : self.kernel_quadratic,\n",
    "            'rbf': self.kernel_rbf\n",
    "        }\n",
    "        self.max_iter = max_iter\n",
    "        self.kernel_type = kernel_type\n",
    "        self.C = C\n",
    "        self.epsilon = epsilon\n",
    "        self.sigma = sigma\n",
    "\n",
    "    def fit(self, X, y):\n",
    "        n, d = X.shape[0], X.shape[1]\n",
    "        alpha = np.zeros((n))\n",
    "        kernel = self.kernels[self.kernel_type]\n",
    "        count = 0\n",
    "        pbar = tqdm(total=100)\n",
    "        while True:\n",
    "            count += 1\n",
    "            alpha_prev = np.copy(alpha)\n",
    "            for j in (range(0, n)):\n",
    "                i = self.get_rnd_int(0, n-1, j)\n",
    "                x_i, x_j, y_i, y_j = X[i], X[j], y[i], y[j]\n",
    "                k_ij = kernel(x_i, x_i) + kernel(x_j, x_j) - 2 * kernel(x_i, x_j)\n",
    "                if k_ij == 0:\n",
    "                    continue\n",
    "                alpha_prime_j, alpha_prime_i = alpha[j], alpha[i]\n",
    "                (L, H) = self.compute_L_H(self.C, alpha_prime_j, alpha_prime_i, y_j, y_i)\n",
    "\n",
    "                self.w = self.calc_w(alpha, y, X)\n",
    "                self.b = self.calc_b(X, y, self.w)\n",
    "\n",
    "                E_i = self.E(x_i, y_i, self.w, self.b)\n",
    "                E_j = self.E(x_j, y_j, self.w, self.b)\n",
    "\n",
    "                alpha[j] = alpha_prime_j + float(y_j * (E_i - E_j))/k_ij\n",
    "                alpha[j] = max(alpha[j], L)\n",
    "                alpha[j] = min(alpha[j], H)\n",
    "\n",
    "                alpha[i] = alpha_prime_i + y_i*y_j * (alpha_prime_j - alpha[j])\n",
    "\n",
    "            diff = np.linalg.norm(alpha - alpha_prev)\n",
    "            prog = int(100/2.718**(diff*100))\n",
    "            print(count, diff, prog)\n",
    "            pbar.n = prog\n",
    "            pbar.update(0)\n",
    "            if diff < self.epsilon:\n",
    "                break\n",
    "\n",
    "            if count >= self.max_iter:\n",
    "                return\n",
    "        self.b = self.calc_b(X, y, self.w)\n",
    "        alpha_idx = np.where(alpha > 0)[0]\n",
    "        support_vectors = X[alpha_idx, :]\n",
    "        return support_vectors, count\n",
    "    def predict(self, X):\n",
    "        return self.h(X, self.w, self.b)\n",
    "    def calc_b(self, X, y, w):\n",
    "        b_tmp = y - np.dot(w.T, X.T)\n",
    "        return np.mean(b_tmp)\n",
    "    def calc_w(self, alpha, y, X):\n",
    "        return np.dot(X.T, np.multiply(alpha,y))\n",
    "\n",
    "    def h(self, X, w, b):\n",
    "#         return np.sign(self.kernels[self.kernel_type](w.T, X.T) + b).astype(int)\n",
    "        return np.sign(np.dot(w.T, X.T) + b).astype(int)\n",
    "    def E(self, x_k, y_k, w, b):\n",
    "        return self.h(x_k, w, b) - y_k\n",
    "    def compute_L_H(self, C, alpha_prime_j, alpha_prime_i, y_j, y_i):\n",
    "        if(y_i != y_j):\n",
    "            return (max(0, alpha_prime_j - alpha_prime_i), min(C, C - alpha_prime_i + alpha_prime_j))\n",
    "        else:\n",
    "            return (max(0, alpha_prime_i + alpha_prime_j - C), min(C, alpha_prime_i + alpha_prime_j))\n",
    "    def get_rnd_int(self, a,b,z):\n",
    "        i = z\n",
    "        while i == z:\n",
    "            i = rnd.randint(a,b)\n",
    "        return i\n",
    "    def kernel_linear(self, x1, x2):\n",
    "        return np.dot(x1, x2.T)\n",
    "    def kernel_quadratic(self, x1, x2):\n",
    "        return (np.dot(x1, x2.T) ** 2)\n",
    "    def kernel_rbf(self, x1, x2):\n",
    "        return np.exp(-np.linalg.norm(x1 - x2)**2/(2 * self.sigma**2))\n",
    "#         return np.exp(-((x1 - x2).dot((x1 - x2).T)/(2 * self.sigma**2)))"
   ]
  },
  {
   "cell_type": "code",
   "execution_count": 8,
   "metadata": {},
   "outputs": [],
   "source": [
    "import csv, os, sys\n",
    "\n",
    "def readData(filename, header=True):\n",
    "    data, header = [], None\n",
    "    with open(filename, 'r') as csvfile:\n",
    "        reader = csv.reader(csvfile, delimiter=',')\n",
    "        if header:\n",
    "            header = reader.next()\n",
    "        for row in reader:\n",
    "            if row[0] == '3' or row[0] == '8':\n",
    "                row[0] = 1 if row[0] == '3' else -1\n",
    "                data.append(row)\n",
    "    return (np.array(data), np.array(header))\n",
    "\n",
    "def calc_acc(y, y_hat):\n",
    "    idx = np.where(y_hat == 1)\n",
    "    TP = np.sum(y_hat[idx] == y[idx])\n",
    "    idx = np.where(y_hat == -1)\n",
    "    TN = np.sum(y_hat[idx] == y[idx])\n",
    "    return float(TP + TN)/len(y)"
   ]
  },
  {
   "cell_type": "code",
   "execution_count": 9,
   "metadata": {},
   "outputs": [
    {
     "name": "stdout",
     "output_type": "stream",
     "text": [
      "(839, 784) vs (11143, 784)\n"
     ]
    }
   ],
   "source": [
    "filename = 'mnist.csv'\n",
    "split = .07\n",
    "# Load data\n",
    "(data, _) = readData('%s' % (filename), header=False)\n",
    "data = data.astype(float)\n",
    "data[:,1:] /= 255\n",
    "idx = round(len(data)*split)\n",
    "train_x, train_y, test_x, test_y = data[:idx,1:], data[:idx,0].astype(int), data[idx:,1:], data[idx:,0].astype(int)\n",
    "print(f'{train_x.shape} vs {test_x.shape}')"
   ]
  },
  {
   "cell_type": "code",
   "execution_count": 22,
   "metadata": {},
   "outputs": [
    {
     "data": {
      "application/vnd.jupyter.widget-view+json": {
       "model_id": "fedc135e90764850b295300d54c13fd4",
       "version_major": 2,
       "version_minor": 0
      },
      "text/plain": [
       "HBox(children=(IntProgress(value=0), HTML(value='')))"
      ]
     },
     "metadata": {},
     "output_type": "display_data"
    },
    {
     "name": "stderr",
     "output_type": "stream",
     "text": [
      "/home/dedsec/anaconda3/lib/python3.7/site-packages/ipykernel_launcher.py:45: RuntimeWarning: overflow encountered in double_scalars\n"
     ]
    },
    {
     "name": "stdout",
     "output_type": "stream",
     "text": [
      "1 9.38083151964686 0\n",
      "2 6.324555320336759 0\n",
      "3 2.8284271247461903 0\n",
      "4 2.0 0\n",
      "5 2.0 0\n",
      "6 0.0 100\n",
      "training accuracy:\t0.975\n"
     ]
    }
   ],
   "source": [
    "C = 1\n",
    "kernel_type = 'rbf'\n",
    "epsilon = 1e-3\n",
    "sigma = 1\n",
    "\n",
    "model = SVM(C=C, kernel_type=kernel_type, epsilon=epsilon, sigma=sigma)\n",
    "support_vectors, iterations = model.fit(train_x, train_y)\n",
    "sv_count = support_vectors.shape[0]\n",
    "y_hat = model.predict(train_x)\n",
    "acc = calc_acc(train_y, y_hat)\n",
    "print(\"training accuracy:\\t%.3f\" % (acc))"
   ]
  },
  {
   "cell_type": "code",
   "execution_count": 23,
   "metadata": {},
   "outputs": [
    {
     "name": "stdout",
     "output_type": "stream",
     "text": [
      "testing accuracy:\t0.949\n"
     ]
    }
   ],
   "source": [
    "y_hat = model.predict(test_x)\n",
    "acc = calc_acc(test_y, y_hat)\n",
    "print(\"testing accuracy:\\t%.3f\" % (acc))"
   ]
  },
  {
   "cell_type": "code",
   "execution_count": 24,
   "metadata": {},
   "outputs": [
    {
     "data": {
      "application/vnd.jupyter.widget-view+json": {
       "model_id": "9a5c8483b2234a6aa77b00a0433f17e7",
       "version_major": 2,
       "version_minor": 0
      },
      "text/plain": [
       "HBox(children=(IntProgress(value=0, max=200), HTML(value='')))"
      ]
     },
     "metadata": {},
     "output_type": "display_data"
    }
   ],
   "source": [
    "# ROC stuff: GG Nitin\n",
    "TPR = []\n",
    "FPR = []\n",
    "for t in tqdm(range(-100,100,1)):\n",
    "    y_pre1 = (np.dot(model.w.T, test_x.T) + model.b)\n",
    "    for i in range(len(y_pre1)):\n",
    "        if y_pre1[i] >= t:\n",
    "            y_pre1[i] = 1\n",
    "        else:\n",
    "            y_pre1[i] = -1\n",
    "    TP, TN, FP, FN = 0, 0, 0, 0\n",
    "    for i in range(len(y_pre1)):\n",
    "        if y_pre1[i] == 1:\n",
    "            if test_y[i] == y_pre1[i]:\n",
    "                TP += 1\n",
    "            else:\n",
    "                FP += 1\n",
    "        else:\n",
    "            if test_y[i] == y_pre1[i]:\n",
    "                TN += 1\n",
    "            else:\n",
    "                FN += 1\n",
    "    TPR.append(TP/(TP+FN))\n",
    "    FPR.append(FP/(FP+TN))\n",
    "TPR = np.array(TPR)\n",
    "FPR = np.array(FPR)\n"
   ]
  },
  {
   "cell_type": "markdown",
   "metadata": {},
   "source": [
    "<h3>Linear Kernel ROC</h3>"
   ]
  },
  {
   "cell_type": "code",
   "execution_count": 21,
   "metadata": {},
   "outputs": [
    {
     "data": {
      "image/png": "[encoded data removed]",
      "text/plain": [
       "<Figure size 432x288 with 1 Axes>"
      ]
     },
     "metadata": {
      "needs_background": "light"
     },
     "output_type": "display_data"
    }
   ],
   "source": [
    "import matplotlib.pyplot as plt\n",
    "plt.plot(FPR,TPR,'-bo')\n",
    "plt.xlabel('FPR')\n",
    "plt.ylabel('TPR')\n",
    "plt.show()"
   ]
  },
  {
   "cell_type": "markdown",
   "metadata": {},
   "source": [
    "<h3>Quadratic Kernel ROC</h3>"
   ]
  },
  {
   "cell_type": "code",
   "execution_count": 14,
   "metadata": {},
   "outputs": [
    {
     "data": {
      "image/png": "[encoded data removed]",
      "text/plain": [
       "<Figure size 432x288 with 1 Axes>"
      ]
     },
     "metadata": {
      "needs_background": "light"
     },
     "output_type": "display_data"
    }
   ],
   "source": [
    "import matplotlib.pyplot as plt\n",
    "plt.plot(FPR,TPR,'-bo')\n",
    "plt.xlabel('FPR')\n",
    "plt.ylabel('TPR')\n",
    "plt.show()"
   ]
  },
  {
   "cell_type": "markdown",
   "metadata": {},
   "source": [
    "<h3>RBF Kernel ROC</h3>"
   ]
  },
  {
   "cell_type": "code",
   "execution_count": 25,
   "metadata": {},
   "outputs": [
    {
     "data": {
      "image/png": "[encoded data removed]",
      "text/plain": [
       "<Figure size 432x288 with 1 Axes>"
      ]
     },
     "metadata": {
      "needs_background": "light"
     },
     "output_type": "display_data"
    }
   ],
   "source": [
    "import matplotlib.pyplot as plt\n",
    "plt.plot(FPR,TPR,'-bo')\n",
    "plt.xlabel('FPR')\n",
    "plt.ylabel('TPR')\n",
    "plt.show()"
   ]
  },
  {
   "cell_type": "code",
   "execution_count": 18,
   "metadata": {},
   "outputs": [
    {
     "name": "stdout",
     "output_type": "stream",
     "text": [
      "5 0.5\n",
      "6 0.5\n",
      "7 0.75\n"
     ]
    }
   ],
   "source": [
    "# Fuzzy Addition Example: GG Charan\n",
    "A = [(2, 0.5), (3, 1)]\n",
    "B = [(3, 0.5), (4, 0.75)]\n",
    "def get(a, b):\n",
    "    val = a[0] + b[0]\n",
    "    prob = min(a[1], b[1])\n",
    "    return val, prob\n",
    "\n",
    "dt = {}  \n",
    "for i in range(len(A)):\n",
    "    for j in range(len(B)):\n",
    "        val, prob = get(A[i], B[j])\n",
    "        if val in dt:\n",
    "            if dt[val] < prob:\n",
    "                dt[val] = prob\n",
    "        else:\n",
    "            dt[val] = prob\n",
    "for x in dt:\n",
    "    print(x,dt[x])"
   ]
  }
 ],
 "metadata": {
  "kernelspec": {
   "display_name": "Python 3",
   "language": "python",
   "name": "python3"
  },
  "language_info": {
   "codemirror_mode": {
    "name": "ipython",
    "version": 3
   },
   "file_extension": ".py",
   "mimetype": "text/x-python",
   "name": "python",
   "nbconvert_exporter": "python",
   "pygments_lexer": "ipython3",
   "version": "3.7.0"
  }
 },
 "nbformat": 4,
 "nbformat_minor": 2
}
