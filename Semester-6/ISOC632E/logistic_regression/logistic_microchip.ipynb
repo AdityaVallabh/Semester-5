{
 "cells": [
  {
   "cell_type": "markdown",
   "metadata": {},
   "source": [
    "<center><h1>Logistic Regression - 2</h1></center>\n",
    "\n",
    "**<center>Aditya Vallabh</center>**\n",
    "**<center>IIT2016517</center>**\n",
    "\n",
    "<h3>Question</h3>\n",
    "\n",
    "- Using the data set of two quality test results of a microchip product, design a predictor using logistic regression which will predict the acceptance or rejection of the microchip given the two test results.\n",
    "- Use regularizer to further tune the parameters.\n",
    "- Use 70 % data for training and rest 30% data for testing your predictor and calculate the efficiency of the predictor/hypothesis."
   ]
  },
  {
   "cell_type": "markdown",
   "metadata": {},
   "source": [
    "**Requirements:**\n",
    "- numpy\n",
    "- pandas\n",
    "- matplotlib"
   ]
  },
  {
   "cell_type": "code",
   "execution_count": 444,
   "metadata": {},
   "outputs": [],
   "source": [
    "from matplotlib import pyplot as plt\n",
    "import pandas as pd\n",
    "import numpy as np\n",
    "from math import exp, log\n",
    "%matplotlib inline"
   ]
  },
  {
   "cell_type": "markdown",
   "metadata": {},
   "source": [
    "Define cost functions and helper function to perform `sigmoid` and `logarithm` on numpy arrays"
   ]
  },
  {
   "cell_type": "code",
   "execution_count": 445,
   "metadata": {},
   "outputs": [],
   "source": [
    "def sigmoid(x):\n",
    "  return 1 / (1 + exp(-x))\n",
    "sigmoid_v = np.vectorize(sigmoid)\n",
    "\n",
    "def logarithm(x):\n",
    "  return log(x)\n",
    "log_v = np.vectorize(logarithm)\n",
    "\n",
    "def err(yy, y):\n",
    "    diff = yy - y\n",
    "    return -1/(len(y))*sum(y*log_v(yy) + (1-y)*log_v(1-yy))\n",
    "\n",
    "count_wrong = lambda test_y,yy: sum([a != b for a,b in zip(test_y, yy)])"
   ]
  },
  {
   "cell_type": "markdown",
   "metadata": {},
   "source": [
    "<h3>Gradient Descent Method</h3>\n",
    "\n",
    "Performs gradient descent by using the above cost function and returns the final `weights` along with a `costs` array"
   ]
  },
  {
   "cell_type": "code",
   "execution_count": 446,
   "metadata": {},
   "outputs": [],
   "source": [
    "def gradient_descent(x, y, epochs, learning_rate, w=None, L=0):\n",
    "    errs = []\n",
    "    X = np.ones((x.shape[0],x.shape[1]+1))\n",
    "    X[:,1:] = x\n",
    "    if not w:\n",
    "        w = np.zeros(X.shape[1])\n",
    "    N = float(len(y))\n",
    "    for i in range(epochs):\n",
    "        y_lin = (X.dot(w))\n",
    "        y_current = sigmoid_v(y_lin)\n",
    "        errs.append(err(y_current, y))\n",
    "        diff = y_current - y\n",
    "        Z = (X.T.dot(diff))\n",
    "        w_gradient = (1/N) * Z\n",
    "        regularization = (L/N)*w\n",
    "        regularization[0] = 0\n",
    "        w -= (learning_rate * (w_gradient + regularization))\n",
    "    return w, errs"
   ]
  },
  {
   "cell_type": "markdown",
   "metadata": {},
   "source": [
    "Predict the price given weights and features"
   ]
  },
  {
   "cell_type": "code",
   "execution_count": 447,
   "metadata": {},
   "outputs": [],
   "source": [
    "def predict(x, W):\n",
    "    X = np.ones((x.shape[0],x.shape[1]+1))\n",
    "    X[:,1:] = x\n",
    "    pred = []\n",
    "    for t in X:\n",
    "        pred.append(t.dot(W))\n",
    "    return [int(round(n)) for n in sigmoid_v(np.array(pred))]"
   ]
  },
  {
   "cell_type": "markdown",
   "metadata": {},
   "source": [
    "Plot the data points along with decision boundary if `weights` are given"
   ]
  },
  {
   "cell_type": "code",
   "execution_count": 448,
   "metadata": {},
   "outputs": [],
   "source": [
    "def plotData(data, label_x, label_y, label_pos, label_neg, W=np.array([]), x=None, axes=None):\n",
    "    neg = data[:,2] == 0\n",
    "    pos = data[:,2] == 1\n",
    "    if axes == None:\n",
    "        plt.figure(0)\n",
    "        axes = plt.gca()\n",
    "    axes.scatter(data[pos][:,0], data[pos][:,1], marker='+', c='k', s=60, linewidth=2, label=label_pos)\n",
    "    axes.scatter(data[neg][:,0], data[neg][:,1], c='y', s=60, label=label_neg)\n",
    "    axes.set_xlabel(label_x)\n",
    "    axes.set_ylabel(label_y)\n",
    "    axes.legend(frameon= True, fancybox = True)\n",
    "    if W.any():\n",
    "        a, b, c, d, e, f = W\n",
    "        disc = ((c + f*x)**2) - 4*e*(d*x*x + b*x + a)\n",
    "        disc = disc * (disc > 0)\n",
    "        y = (-(c + f*x) + np.sqrt(disc))/(2*e)\n",
    "        plt.plot(x,y, '-r')\n",
    "        y = (-(c + f*x) - np.sqrt(disc))/(2*e)\n",
    "        plt.plot(x,y, '-r')\n",
    "    plt.show()"
   ]
  },
  {
   "cell_type": "markdown",
   "metadata": {},
   "source": [
    "- Read the dataset and split it into 70-30 ratio\n",
    "- Visualize the data points "
   ]
  },
  {
   "cell_type": "code",
   "execution_count": 449,
   "metadata": {},
   "outputs": [
    {
     "data": {
      "image/png": "[encoded data removed]",
      "text/plain": [
       "<Figure size 432x288 with 1 Axes>"
      ]
     },
     "metadata": {
      "needs_background": "light"
     },
     "output_type": "display_data"
    }
   ],
   "source": [
    "df = pd.read_csv('chip.csv')\n",
    "df = df.sample(frac=1)\n",
    "df = df.reset_index(drop=True)\n",
    "split = .7\n",
    "idx = int(split*len(df))\n",
    "train_x, train_y = df.loc[:idx,:'two'].values, df.loc[:idx,'result'].values\n",
    "test_x, test_y   = df.loc[idx:,:'two'].values, df.loc[idx:,'result'].values\n",
    "plotData(df.iloc[:,0:].values, 'Test 1', 'Test 2', 'Accepted', 'Rejected')"
   ]
  },
  {
   "cell_type": "markdown",
   "metadata": {},
   "source": [
    "The datapoints cannot be separated by a single line. Hence we require higher powers of the input parameters.\n",
    "\n",
    "The following block transforms the input features from `[X Y]` to `[X Y X^2 Y^2 X*Y]`"
   ]
  },
  {
   "cell_type": "code",
   "execution_count": 450,
   "metadata": {},
   "outputs": [],
   "source": [
    "X = np.zeros((train_x.shape[0], train_x.shape[1]+3))\n",
    "X[:,:2] = train_x\n",
    "X[:,2:4] = np.square(train_x)\n",
    "X[:,4] = np.multiply(train_x[:,0], train_x[:,1])\n",
    "train_x = X\n",
    "\n",
    "X = np.zeros((test_x.shape[0], test_x.shape[1]+3))\n",
    "X[:,:2] = test_x\n",
    "X[:,2:4] = np.square(test_x)\n",
    "X[:,4] = np.multiply(test_x[:,0], test_x[:,1])\n",
    "test_x = X"
   ]
  },
  {
   "cell_type": "markdown",
   "metadata": {},
   "source": [
    "Perform gradient descent for 100000 epochs and 2e-3 learning rate"
   ]
  },
  {
   "cell_type": "code",
   "execution_count": 451,
   "metadata": {},
   "outputs": [
    {
     "data": {
      "image/png": "[encoded data removed]",
      "text/plain": [
       "<Figure size 432x288 with 1 Axes>"
      ]
     },
     "metadata": {
      "needs_background": "light"
     },
     "output_type": "display_data"
    },
    {
     "name": "stdout",
     "output_type": "stream",
     "text": [
      "Weights: [  4.51525839   2.90746749   3.76459702 -10.11058081 -10.0139676\n",
      "  -5.45856784]\n",
      "Cost: 0.3527125764429775\n"
     ]
    }
   ],
   "source": [
    "W2, errs = gradient_descent(train_x, train_y, epochs=300, learning_rate=1e1, L=.01)\n",
    "plt.plot(range(len(errs)), errs, '-r')\n",
    "plt.grid()\n",
    "plt.xlabel('Epochs')\n",
    "plt.ylabel('Cost')\n",
    "plt.show()\n",
    "print('Weights: {}'.format(W2))\n",
    "print('Cost: {}'.format(errs[-1]))"
   ]
  },
  {
   "cell_type": "code",
   "execution_count": 452,
   "metadata": {},
   "outputs": [
    {
     "name": "stdout",
     "output_type": "stream",
     "text": [
      "7/36 errors => 80.56% accuracy\n"
     ]
    }
   ],
   "source": [
    "yy = predict(test_x, W2)\n",
    "num_errs = count_wrong(yy, test_y)\n",
    "print('{}/{} errors => {:.02f}% accuracy'.format(num_errs, len(yy), 100.0*(1-num_errs/len(yy))))"
   ]
  },
  {
   "cell_type": "markdown",
   "metadata": {},
   "source": [
    "Draw the decision boundary"
   ]
  },
  {
   "cell_type": "code",
   "execution_count": 453,
   "metadata": {},
   "outputs": [
    {
     "data": {
      "image/png": "[encoded data removed]",
      "text/plain": [
       "<Figure size 432x288 with 1 Axes>"
      ]
     },
     "metadata": {
      "needs_background": "light"
     },
     "output_type": "display_data"
    }
   ],
   "source": [
    "x = np.arange(-.75,.9,0.01)\n",
    "# x = np.arange(43,100,1)\n",
    "plotData(df.iloc[:,0:].values, 'Test 1', 'Test 2', 'Accepted', 'Rejected', W2, x)"
   ]
  },
  {
   "cell_type": "markdown",
   "metadata": {},
   "source": [
    "*The decision boundary neatly separates the data points into distinct classes*"
   ]
  },
  {
   "cell_type": "markdown",
   "metadata": {},
   "source": [
    "Given training and testing data, vary **lambda** (regularization parameter) and return the corresponding costs for every lambda\n",
    "\n",
    "In the function below, we vary lambda from 1 to 1e-5"
   ]
  },
  {
   "cell_type": "code",
   "execution_count": 454,
   "metadata": {},
   "outputs": [],
   "source": [
    "def analyze(x_train, y_train, x_test, y_test):\n",
    "    G_r = []\n",
    "    L_r = []\n",
    "\n",
    "    for L in range(0, 5, 1):\n",
    "        L = .1**L\n",
    "        L_r.append(L)\n",
    "        W2, errs = gradient_descent(train_x, train_y, epochs=300, learning_rate=1e1, L=L)\n",
    "        yy = predict(x_test, W2)\n",
    "        grad_err = count_wrong(yy, y_test)\n",
    "    #     print('Gradient Descent Error: {}'.format(grad_err))\n",
    "        G_r.append(grad_err)\n",
    "    #     print(W2)\n",
    "    return L_r, G_r"
   ]
  },
  {
   "cell_type": "markdown",
   "metadata": {},
   "source": [
    "Plot graphs comparing the performance of Normal Equations and Gradient Descent in `Cost vs Lambda`"
   ]
  },
  {
   "cell_type": "code",
   "execution_count": 457,
   "metadata": {},
   "outputs": [],
   "source": [
    "def plot_graphs(L_r, G_r):\n",
    "    # plt.plot(range(len(errs)), [norm_err]*len(errs), '-g')\n",
    "    # plt.plot(range(len(errs)), errs, '-r')\n",
    "    plt.plot(L_r, G_r, '-r', label='Grad desc.')\n",
    "    plt.xscale('log')\n",
    "    plt.xlabel('Lambda')\n",
    "    plt.ylabel('Error')\n",
    "    plt.legend()\n",
    "    plt.grid()\n",
    "    plt.show()"
   ]
  },
  {
   "cell_type": "code",
   "execution_count": 458,
   "metadata": {},
   "outputs": [
    {
     "data": {
      "image/png": "[encoded data removed]",
      "text/plain": [
       "<Figure size 432x288 with 1 Axes>"
      ]
     },
     "metadata": {
      "needs_background": "light"
     },
     "output_type": "display_data"
    }
   ],
   "source": [
    "L_r, G_r = analyze(train_x, train_y, test_x, test_y)\n",
    "plot_graphs(L_r, G_r)"
   ]
  },
  {
   "cell_type": "markdown",
   "metadata": {},
   "source": [
    "<h3>Observations</h3>\n",
    "\n",
    "We observe that:\n",
    "- The decision boundary obtained neatly separates the data points into 2 distinct classes as required\n",
    "- Increasing lambda has a degrading effect on the results when lambda >= 1\n",
    "- For lambda = 0.01, however, we get the least error"
   ]
  },
  {
   "cell_type": "markdown",
   "metadata": {},
   "source": [
    "<h3>Conclusion</h3>\n",
    "\n",
    "- Logistic regression works way better than linear regression when there's 0-1 classification problem\n",
    "- The given dataset has less features hence overfitting is negligible"
   ]
  }
 ],
 "metadata": {
  "kernelspec": {
   "display_name": "Python 3",
   "language": "python",
   "name": "python3"
  },
  "language_info": {
   "codemirror_mode": {
    "name": "ipython",
    "version": 3
   },
   "file_extension": ".py",
   "mimetype": "text/x-python",
   "name": "python",
   "nbconvert_exporter": "python",
   "pygments_lexer": "ipython3",
   "version": "3.7.2"
  }
 },
 "nbformat": 4,
 "nbformat_minor": 2
}
